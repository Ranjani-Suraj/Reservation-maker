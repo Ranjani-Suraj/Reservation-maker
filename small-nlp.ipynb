{
  "nbformat": 4,
  "nbformat_minor": 0,
  "metadata": {
    "colab": {
      "provenance": [],
      "include_colab_link": true
    },
    "kernelspec": {
      "name": "python3",
      "display_name": "Python 3"
    },
    "accelerator": "GPU"
  },
  "cells": [
    {
      "cell_type": "markdown",
      "metadata": {
        "id": "view-in-github",
        "colab_type": "text"
      },
      "source": [
        "<a href=\"https://colab.research.google.com/github/Ranjani-Suraj/Reservation-maker/blob/main/small-nlp.ipynb\" target=\"_parent\"><img src=\"https://colab.research.google.com/assets/colab-badge.svg\" alt=\"Open In Colab\"/></a>"
      ]
    },
    {
      "cell_type": "markdown",
      "metadata": {
        "id": "m0ygrZd3dmu5"
      },
      "source": [
        "# Classifying Voice Commands\n",
        "\n",
        "For voice commands, Siri needs to be able to figure out *what* the speaker wants, and then *how* to accomplish that request.\n",
        "\n",
        "<img src=\"https://www.cheatsheet.com/wp-content/uploads/2016/01/Siri-in-iOS-9-640x305.png\" width=400>\n",
        "\n",
        "The focus of this notebook is predicting the 'what', in other words, the **intent** of a voice command.\n",
        "\n",
        "Remember that this is part (a) of our two-part goal.\n",
        "\n",
        "---"
      ]
    },
    {
      "cell_type": "markdown",
      "metadata": {
        "id": "irPDgkzsdguU"
      },
      "source": [
        "## Sentence Level Classification\n",
        "\n",
        "\n",
        "\n",
        "\n",
        "Here is where our friend BERT comes in to help us. As a reminder, **BERT** stands for **B**idirectional **E**ncoder **R**epresentations from **T**ransformers, and is a novel model architecture that uses both the left and right *context* words in a sequence to generate good embeddings for words.\n",
        "\n",
        "We can make use of existing Pytorch APIs for BERT that will allow us to convert our voice command sequence data into the format that the BERT model expects, and then use *pretrained* BERT for our classification task.\n",
        "\n",
        "<img src=\"https://pytorch.org/tutorials/_images/bert.png\" height=\"300\">\n",
        "\n",
        "Note that there are many available pretrained BERT models with varying attributes such as: the language of the corpus for training, how many layers and attention heads are used, if the corpus for pretraining contains uncased or cased words, and so on. We will use the cased BERT base, which is the architecture described in the slides (12 layers - 6 layers within the encoder and 6 layers within the decoder - and 12 attention heads), and is trained on cased English text.\n",
        "\n",
        "\n",
        "\n"
      ]
    },
    {
      "cell_type": "markdown",
      "metadata": {
        "id": "Nmzc3C9XkIKL"
      },
      "source": [
        "**IMPORTANT**: Since the BERT model we will be using in this notebook is so large, we need to do one step before continuing. Please go to the 'Runtime' tab, and click on 'Change Runtime Type'; then select **GPU** under the dropdown for Hardware accelerator."
      ]
    },
    {
      "cell_type": "code",
      "metadata": {
        "id": "PjzYKqcweS2F",
        "cellView": "form"
      },
      "source": [
        "#@title Run this code to get started\n",
        "%tensorflow_version 2.x\n",
        "%pip install -q transformers\n",
        "\n",
        "from urllib.request import urlretrieve\n",
        "from pathlib import Path\n",
        "import matplotlib.pyplot as plt\n",
        "import numpy as np\n",
        "import pandas as pd\n",
        "\n",
        "SNIPS_DATA_BASE_URL = (\n",
        "    \"https://github.com/ogrisel/slot_filling_and_intent_detection_of_SLU/blob/\"\n",
        "    \"master/data/snips/\"\n",
        ")\n",
        "for filename in [\"train\", \"valid\", \"test\", \"vocab.intent\", \"vocab.slot\"]:\n",
        "    path = Path(filename)\n",
        "    if not path.exists():\n",
        "        print(f\"Downloading {filename}...\")\n",
        "        urlretrieve(SNIPS_DATA_BASE_URL + filename + \"?raw=true\", path)\n",
        "\n",
        "\n",
        "def parse_line(line):\n",
        "    data, intent_label = line.split(\" <=> \")\n",
        "    items = data.split()\n",
        "    words = [item.rsplit(\":\", 1)[0]for item in items]\n",
        "    word_labels = [item.rsplit(\":\", 1)[1]for item in items]\n",
        "    return {\n",
        "        \"intent_label\": intent_label, ### YOUR CODE HERE ###,\n",
        "        \"words\": \" \".join(words),\n",
        "        \"word_labels\": \" \".join(word_labels), ### YOUR CODE HERE ###,\n",
        "        \"length\": len(words), ### YOUR CODE HERE ###,\n",
        "    }\n",
        "\n",
        "\n",
        "train_lines = Path(\"train\").read_text().strip().splitlines()\n",
        "valid_lines = Path(\"valid\").read_text().strip().splitlines()\n",
        "test_lines = Path(\"test\").read_text().strip().splitlines()\n",
        "\n",
        "df_train = pd.DataFrame([parse_line(line) for line in train_lines])\n",
        "df_valid = pd.DataFrame([parse_line(line) for line in valid_lines])\n",
        "df_test = pd.DataFrame([parse_line(line) for line in test_lines])"
      ],
      "execution_count": null,
      "outputs": []
    },
    {
      "cell_type": "markdown",
      "metadata": {
        "id": "PAc67kxQftEV"
      },
      "source": [
        "Remember that `df_train`, `df_valid`, and `df_test` are the Pandas Dataframes that store our training, validation, and test datapoints."
      ]
    },
    {
      "cell_type": "markdown",
      "metadata": {
        "id": "D0ZWheGxd5XT"
      },
      "source": [
        "### Step 1: Tokenize our Data\n",
        "\n",
        "BERT expects input sequences to be broken down into individual *tokens*; a `[CLS]` token marks the beginning and a `[SEP]` marks the end of a given sequence (as seen in the red input sentences in the image above).\n",
        "\n",
        "The `[CLS]` token is used by BERT for the pre-training task for sequence classification.\n",
        "\n",
        "The `[SEP]` token is a separator for the pre-training task that classifies if a pair of sentences are consecutive in a corpus or not, i.e. next sentence prediction (NSP)."
      ]
    },
    {
      "cell_type": "code",
      "metadata": {
        "id": "2VLvVuJUchlR"
      },
      "source": [
        "# Import the BERT tokenizer and utilize the BERT base pretrained model\n",
        "from transformers import BertTokenizer\n",
        "\n",
        "model_name = \"bert-base-cased\"\n",
        "tokenizer = BertTokenizer.from_pretrained(model_name)"
      ],
      "execution_count": null,
      "outputs": []
    },
    {
      "cell_type": "markdown",
      "metadata": {
        "id": "CPdGS07td863"
      },
      "source": [
        "How many unique tokens in this BERT model are there?"
      ]
    },
    {
      "cell_type": "code",
      "metadata": {
        "id": "NDKUw6svd9Im",
        "colab": {
          "base_uri": "https://localhost:8080/",
          "height": 34
        },
        "outputId": "43405612-82a7-47bc-d54f-61c16893433f"
      },
      "source": [
        "tokenizer.vocab_size"
      ],
      "execution_count": null,
      "outputs": [
        {
          "output_type": "execute_result",
          "data": {
            "text/plain": [
              "28996"
            ]
          },
          "metadata": {
            "tags": []
          },
          "execution_count": 6
        }
      ]
    },
    {
      "cell_type": "markdown",
      "metadata": {
        "id": "C7gd0Pw8eA7B"
      },
      "source": [
        "Wow - there's roughly 30k tokens that BERT knows! <img src=\"https://i7.pngguru.com/preview/625/201/218/emoji-iphone-computer-icons-clip-art-emoji-thumbnail.jpg\" width=20>\n",
        "\n",
        "Let's see exactly how the BERT tokenizer works on one training example."
      ]
    },
    {
      "cell_type": "code",
      "metadata": {
        "id": "wf4zLAdaeBR1",
        "colab": {
          "base_uri": "https://localhost:8080/",
          "height": 50
        },
        "outputId": "a1ba7578-f1e8-4277-caca-0d71a662ea2d"
      },
      "source": [
        "# Print the first training data sequence\n",
        "first_sentence = df_train.iloc[0][\"words\"]\n",
        "print(first_sentence)\n",
        "print(\"This sentence contains {} words.\".format(len(first_sentence.split(\" \"))))"
      ],
      "execution_count": null,
      "outputs": [
        {
          "output_type": "stream",
          "text": [
            "Add Don and Sherri to my Meditate to Sounds of Nature playlist\n",
            "This sentence contains 12 words.\n"
          ],
          "name": "stdout"
        }
      ]
    },
    {
      "cell_type": "code",
      "metadata": {
        "id": "kusXEf2JeFDg",
        "colab": {
          "base_uri": "https://localhost:8080/",
          "height": 336
        },
        "outputId": "b90fa6ac-9b5c-4135-bf95-70bc07ec8c48"
      },
      "source": [
        "tokens = tokenizer.tokenize(first_sentence)\n",
        "for t in tokens:\n",
        "  print(t)\n",
        "print(\"\\nThis sentence turns into {} tokens.\".format(len(tokens)))"
      ],
      "execution_count": null,
      "outputs": [
        {
          "output_type": "stream",
          "text": [
            "Ad\n",
            "##d\n",
            "Don\n",
            "and\n",
            "She\n",
            "##rri\n",
            "to\n",
            "my\n",
            "Me\n",
            "##dit\n",
            "##ate\n",
            "to\n",
            "Sounds\n",
            "of\n",
            "Nature\n",
            "play\n",
            "##list\n",
            "\n",
            "This sentence turns into 17 tokens.\n"
          ],
          "name": "stdout"
        }
      ]
    },
    {
      "cell_type": "markdown",
      "metadata": {
        "id": "rUUM0qHugJcw"
      },
      "source": [
        "Hmmm, why are there 17 *tokens* now but only 12 *words* within the original sequence.\n",
        "\n",
        "It's because BERT uses something called subword tokenization!\n",
        "\n",
        "**Subword tokenization** may break some words into smaller units and doesn't always use a 1:1 mapping of words to tokens. Because of subword tokenization within BERT, the length of tokenized sentences is likely to be larger than the original number of words in the sentence.\n",
        "\n",
        "**Discuss:**\n",
        "\n",
        "Why is it interesting and useful to use subword tokenization for generic language models such as BERT?"
      ]
    },
    {
      "cell_type": "markdown",
      "metadata": {
        "id": "gJGWM5J-gOZV"
      },
      "source": [
        "### Step 2: Encoding Tokens\n",
        "\n",
        "Each token is mapped to a unique integer id that makes it fast to lookup the correct column in the input layer token embedding (seen in yellow below).\n",
        "\n",
        "<img src=\"https://miro.medium.com/max/1496/1*fywysLzEbXxEqkPeIUWaJw.png\" width=\"500\">"
      ]
    },
    {
      "cell_type": "code",
      "metadata": {
        "id": "_3yBoMYqgG0R",
        "colab": {
          "base_uri": "https://localhost:8080/",
          "height": 185
        },
        "outputId": "2851aab3-6100-40b4-b330-cc90ceae9206"
      },
      "source": [
        "# See the first 10 (token,id) pairs within BERT.\n",
        "bert_vocab_items = list(tokenizer.vocab.items())\n",
        "bert_vocab_items[:10]"
      ],
      "execution_count": null,
      "outputs": [
        {
          "output_type": "execute_result",
          "data": {
            "text/plain": [
              "[('[PAD]', 0),\n",
              " ('[unused1]', 1),\n",
              " ('[unused2]', 2),\n",
              " ('[unused3]', 3),\n",
              " ('[unused4]', 4),\n",
              " ('[unused5]', 5),\n",
              " ('[unused6]', 6),\n",
              " ('[unused7]', 7),\n",
              " ('[unused8]', 8),\n",
              " ('[unused9]', 9)]"
            ]
          },
          "metadata": {
            "tags": []
          },
          "execution_count": 6
        }
      ]
    },
    {
      "cell_type": "code",
      "metadata": {
        "id": "TOnuTWJvgQ7P",
        "colab": {
          "base_uri": "https://localhost:8080/",
          "height": 185
        },
        "outputId": "ea3fc701-f7b4-4b4e-ef98-ac13098dcfb8"
      },
      "source": [
        "# See more (token,id) examples within BERT's vocab.\n",
        "bert_vocab_items[1100:1110]"
      ],
      "execution_count": null,
      "outputs": [
        {
          "output_type": "execute_result",
          "data": {
            "text/plain": [
              "[('－', 1100),\n",
              " ('／', 1101),\n",
              " ('：', 1102),\n",
              " ('the', 1103),\n",
              " ('of', 1104),\n",
              " ('and', 1105),\n",
              " ('to', 1106),\n",
              " ('in', 1107),\n",
              " ('was', 1108),\n",
              " ('The', 1109)]"
            ]
          },
          "metadata": {
            "tags": []
          },
          "execution_count": 7
        }
      ]
    },
    {
      "cell_type": "code",
      "metadata": {
        "id": "ZjTk9qkyvViH",
        "colab": {
          "base_uri": "https://localhost:8080/",
          "height": 34
        },
        "outputId": "1358754a-094e-4a5e-fcb0-27e7502bcc46"
      },
      "source": [
        "# Why are these tokens interesting?\n",
        "bert_vocab_items[100:104]"
      ],
      "execution_count": null,
      "outputs": [
        {
          "output_type": "execute_result",
          "data": {
            "text/plain": [
              "[('[UNK]', 100), ('[CLS]', 101), ('[SEP]', 102), ('[MASK]', 103)]"
            ]
          },
          "metadata": {
            "tags": []
          },
          "execution_count": 8
        }
      ]
    },
    {
      "cell_type": "markdown",
      "metadata": {
        "id": "1RJypthuvYns"
      },
      "source": [
        "(The `[UNK]` token is used to replace tokens that BERT doesn't recognize. If there is no way to split a word into subtokens, the whole word becomes `[UNK]`.)\n",
        "\n",
        "`[CLS]` marks the beginning of a sentence, and `[SEP]` marks the end.\n",
        "\n",
        "`[MASK]` is used by BERT in the pre-training task called MLM (Masked Language Model) where it learns to predict the original word if it's masked out in a sentence."
      ]
    },
    {
      "cell_type": "markdown",
      "metadata": {
        "id": "qbCq5LpQgVkF"
      },
      "source": [
        "Let's analyze the first training sequence again."
      ]
    },
    {
      "cell_type": "code",
      "metadata": {
        "id": "_pQUHmuDgSyn",
        "colab": {
          "base_uri": "https://localhost:8080/",
          "height": 34
        },
        "outputId": "93b04eeb-9032-4eb9-8611-7c262a5933ee"
      },
      "source": [
        "# See the integer indexes for the token embeddings of the first sentence.\n",
        "idxs = tokenizer.encode(first_sentence)\n",
        "print(idxs)"
      ],
      "execution_count": null,
      "outputs": [
        {
          "output_type": "stream",
          "text": [
            "[101, 24930, 1181, 1790, 1105, 1153, 14791, 1106, 1139, 2508, 17903, 2193, 1106, 10560, 1104, 7009, 1505, 7276, 102]\n"
          ],
          "name": "stdout"
        }
      ]
    },
    {
      "cell_type": "code",
      "metadata": {
        "id": "Ht-HqEmMgXZy",
        "colab": {
          "base_uri": "https://localhost:8080/",
          "height": 35
        },
        "outputId": "60f4d4d5-3b7f-4a61-809d-3d9d848b9795"
      },
      "source": [
        "# Decode the encoding, which should produce the original sequence.\n",
        "tokenizer.decode(idxs)"
      ],
      "execution_count": null,
      "outputs": [
        {
          "output_type": "execute_result",
          "data": {
            "application/vnd.google.colaboratory.intrinsic+json": {
              "type": "string"
            },
            "text/plain": [
              "'[CLS] Add Don and Sherri to my Meditate to Sounds of Nature playlist [SEP]'"
            ]
          },
          "metadata": {
            "tags": []
          },
          "execution_count": 10
        }
      ]
    },
    {
      "cell_type": "markdown",
      "metadata": {
        "id": "FzWrP7kYgdVo"
      },
      "source": [
        "### Step 3: Padding Tokenized Sequences"
      ]
    },
    {
      "cell_type": "markdown",
      "metadata": {
        "id": "0XlouEr3ggRN"
      },
      "source": [
        "#### Exercise 1\n",
        "\n",
        "In the Training Data Analysis section of the 1st notebook, we created a histogram according to the lengths of training sequences. Let's take a look at the histogram of the **tokenized** sequences now."
      ]
    },
    {
      "cell_type": "code",
      "metadata": {
        "id": "uUSq9VhTggmm",
        "colab": {
          "base_uri": "https://localhost:8080/",
          "height": 295
        },
        "outputId": "1fa871d0-ca97-493a-b5ca-eb8111c12391"
      },
      "source": [
        "# Print histogram of training tokenized sequence lengths.\n",
        "# Hint: use tokenizer.encode on every sequence within df_train\n",
        "# & get the lengths; then use plt.hist()\n",
        "train_sequence_lengths = []\n",
        "for sentence in df_train['words']:\n",
        "  x = len(tokenizer.encode(sentence))\n",
        "  train_sequence_lengths.append(x)\n",
        "plt.hist(train_sequence_lengths)\n",
        "plt.xlabel(\"Number of tokens per sequence\")\n",
        "plt.ylabel(\"Count of sequences\")\n",
        "plt.title(\"Token Sequence Length Histogram\")\n",
        "plt.show()"
      ],
      "execution_count": null,
      "outputs": [
        {
          "output_type": "display_data",
          "data": {
            "image/png": "[encoded data removed]",
            "text/plain": [
              "<Figure size 432x288 with 1 Axes>"
            ]
          },
          "metadata": {
            "tags": [],
            "needs_background": "light"
          }
        }
      ]
    },
    {
      "cell_type": "markdown",
      "metadata": {
        "id": "KN_8RLj2hRiD"
      },
      "source": [
        "What is the maximum length of any given tokenized training sequence?\n",
        "\n",
        "*Remember that the maximum of the original voice command lengths was 35 words per sequence.*"
      ]
    },
    {
      "cell_type": "code",
      "metadata": {
        "id": "6Os61ui7hPxH",
        "colab": {
          "base_uri": "https://localhost:8080/",
          "height": 34
        },
        "outputId": "8ed222d9-c286-45e8-f9e7-c69d8925971c"
      },
      "source": [
        "max_token_len = len(train_sequence_lengths)\n",
        "print(\"Maximum tokenized sequence length: {} tokens per sequence\".format(max_token_len))"
      ],
      "execution_count": null,
      "outputs": [
        {
          "output_type": "stream",
          "text": [
            "Maximum tokenized sequence length: 13084 tokens per sequence\n"
          ],
          "name": "stdout"
        }
      ]
    },
    {
      "cell_type": "markdown",
      "metadata": {
        "id": "SyCTT3WPhpec"
      },
      "source": [
        "**Transfer learning**, i.e. using *pretrained* BERT applied to our new dataset and sentiment classification task, requires that the sequences are **padded**, which means they all have the same length.\n",
        "\n",
        "The above histogram shows that after tokenization, 43 tokens is long enough to represent all the voice commands in the training set."
      ]
    },
    {
      "cell_type": "markdown",
      "metadata": {
        "id": "6LoeTBKEhrev"
      },
      "source": [
        "### Preprocessing Full Dataset\n",
        "\n",
        "<img src=\"https://miro.medium.com/max/2152/1*vNGH3DTu83pZr3gVHsz7yg.png\" width=500>\n"
      ]
    },
    {
      "cell_type": "markdown",
      "metadata": {
        "id": "ZJGK5kL9xHtH"
      },
      "source": [
        "Let's now encode the full train, validation, and test sets with the BERT tokenizer to get padded integer numpy arrays."
      ]
    },
    {
      "cell_type": "code",
      "metadata": {
        "id": "nFDJmLtghpuX"
      },
      "source": [
        "def encode_dataset(text_sequences):\n",
        "    # Create token_ids array (initialized to all zeros), where\n",
        "    # rows are a sequence and columns are encoding ids\n",
        "    # of each token in given sequence.\n",
        "    token_ids = np.zeros(shape=(len(text_sequences), max_token_len),\n",
        "                         dtype=np.int32)\n",
        "\n",
        "    for i, text_sequence in enumerate(text_sequences):\n",
        "        encoded = tokenizer.encode(text_sequence)\n",
        "        token_ids[i, 0:len(encoded)] = encoded\n",
        "\n",
        "    attention_masks = (token_ids != 0).astype(np.int32)\n",
        "    return {\"input_ids\": token_ids, \"attention_masks\": attention_masks}"
      ],
      "execution_count": null,
      "outputs": []
    },
    {
      "cell_type": "code",
      "metadata": {
        "id": "fJ2GF91YhvIB"
      },
      "source": [
        "encoded_train = encode_dataset(df_train[\"words\"])"
      ],
      "execution_count": null,
      "outputs": []
    },
    {
      "cell_type": "markdown",
      "metadata": {
        "id": "zlfF7RWKh5rV"
      },
      "source": [
        "Let's see what the output of the function `encode_dataset` is on the training data:"
      ]
    },
    {
      "cell_type": "code",
      "metadata": {
        "id": "qA4uyGmrhwqq",
        "colab": {
          "base_uri": "https://localhost:8080/",
          "height": 134
        },
        "outputId": "dac2645e-91a2-4891-bbcb-04effdaf88e5"
      },
      "source": [
        "encoded_train[\"input_ids\"]"
      ],
      "execution_count": null,
      "outputs": [
        {
          "output_type": "execute_result",
          "data": {
            "text/plain": [
              "array([[  101, 24930,  1181, ...,     0,     0,     0],\n",
              "       [  101,  1508,  1244, ...,     0,     0,     0],\n",
              "       [  101,  5194,  1103, ...,     0,     0,     0],\n",
              "       ...,\n",
              "       [  101, 27640,  1116, ...,     0,     0,     0],\n",
              "       [  101,  5979,  6608, ...,     0,     0,     0],\n",
              "       [  101,  1327,  2523, ...,     0,     0,     0]], dtype=int32)"
            ]
          },
          "metadata": {
            "tags": []
          },
          "execution_count": 72
        }
      ]
    },
    {
      "cell_type": "code",
      "metadata": {
        "id": "ExBeEvwQh7h-",
        "colab": {
          "base_uri": "https://localhost:8080/",
          "height": 134
        },
        "outputId": "c8e611f2-84b6-44e7-aa3e-9a0d2f3e2bed"
      },
      "source": [
        "encoded_train[\"attention_masks\"]"
      ],
      "execution_count": null,
      "outputs": [
        {
          "output_type": "execute_result",
          "data": {
            "text/plain": [
              "array([[1, 1, 1, ..., 0, 0, 0],\n",
              "       [1, 1, 1, ..., 0, 0, 0],\n",
              "       [1, 1, 1, ..., 0, 0, 0],\n",
              "       ...,\n",
              "       [1, 1, 1, ..., 0, 0, 0],\n",
              "       [1, 1, 1, ..., 0, 0, 0],\n",
              "       [1, 1, 1, ..., 0, 0, 0]], dtype=int32)"
            ]
          },
          "metadata": {
            "tags": []
          },
          "execution_count": 73
        }
      ]
    },
    {
      "cell_type": "markdown",
      "metadata": {
        "id": "pD13PjPih-2A"
      },
      "source": [
        "**Discuss**:\n",
        "\n",
        "What is the purpose of the attention_masks array?\n",
        "(Hint: Think about what each row and column corresponds to).\n"
      ]
    },
    {
      "cell_type": "markdown",
      "metadata": {
        "id": "KSEQpuOSiAtp"
      },
      "source": [
        "#### Exercise 2\n",
        "\n",
        "Let's also create the encoding id and attention mask arrays for the validation and test sets:"
      ]
    },
    {
      "cell_type": "code",
      "metadata": {
        "id": "KsHrCy2miCag"
      },
      "source": [
        "# Create the necessary np arrays using the encode_dataset function\n",
        "# and store your results in encoded_valid, and encoded_test.\n",
        "encoded_valid=encode_dataset(df_train[\"words\"])\n",
        "encoded_test=encode_dataset(df_test['words'])\n",
        "### YOUR CODE HERE ###"
      ],
      "execution_count": null,
      "outputs": []
    },
    {
      "cell_type": "markdown",
      "metadata": {
        "id": "kPj_8jJPiKIf"
      },
      "source": [
        "#### Encoding the Sequence Classification Targets\n",
        "\n",
        "Aside from encodings of the tokenized word sequences, we also need to get the encodings of the target intent classification labels."
      ]
    },
    {
      "cell_type": "code",
      "metadata": {
        "id": "t-eOu3PbiKWx",
        "colab": {
          "base_uri": "https://localhost:8080/",
          "height": 134
        },
        "outputId": "ff2231a1-1a99-44fa-aafa-e26b21933855"
      },
      "source": [
        "# Build a map from target intent label to a unique id.\n",
        "intent_names = Path(\"vocab.intent\").read_text().split()\n",
        "intent_map = dict((label, idx) for idx, label in enumerate(intent_names))\n",
        "intent_map"
      ],
      "execution_count": null,
      "outputs": [
        {
          "output_type": "execute_result",
          "data": {
            "text/plain": [
              "{'AddToPlaylist': 0,\n",
              " 'BookRestaurant': 1,\n",
              " 'GetWeather': 2,\n",
              " 'PlayMusic': 3,\n",
              " 'RateBook': 4,\n",
              " 'SearchCreativeWork': 5,\n",
              " 'SearchScreeningEvent': 6}"
            ]
          },
          "metadata": {
            "tags": []
          },
          "execution_count": 75
        }
      ]
    },
    {
      "cell_type": "code",
      "metadata": {
        "id": "v5bTeYoRiNVQ",
        "colab": {
          "base_uri": "https://localhost:8080/",
          "height": 34
        },
        "outputId": "197f157c-9286-4257-8971-e29eb5eca699"
      },
      "source": [
        "# Convert list of target labels into their corresponding unique id.\n",
        "intent_train = df_train[\"intent_label\"].map(intent_map).values\n",
        "intent_train"
      ],
      "execution_count": null,
      "outputs": [
        {
          "output_type": "execute_result",
          "data": {
            "text/plain": [
              "array([0, 0, 0, ..., 6, 6, 6])"
            ]
          },
          "metadata": {
            "tags": []
          },
          "execution_count": 55
        }
      ]
    },
    {
      "cell_type": "code",
      "metadata": {
        "id": "qnzGflSGiPC0",
        "colab": {
          "base_uri": "https://localhost:8080/",
          "height": 134
        },
        "outputId": "386f8fff-75c2-47c3-efb4-ef6cd9cc926d"
      },
      "source": [
        "# Sanity check: the number of sentences that belongs to each class\n",
        "for i in range(7):\n",
        "  print(len(intent_train[intent_train == i]))"
      ],
      "execution_count": null,
      "outputs": [
        {
          "output_type": "stream",
          "text": [
            "1842\n",
            "1873\n",
            "1900\n",
            "1900\n",
            "1856\n",
            "1854\n",
            "1859\n"
          ],
          "name": "stdout"
        }
      ]
    },
    {
      "cell_type": "markdown",
      "metadata": {
        "id": "nbY64mzriRb6"
      },
      "source": [
        "<img src=\"https://drive.google.com/uc?id=1i9qommblASpRkuJWCtyRo2E1xYd7IgfA\" height=\"200\">\n",
        "\n",
        "Great! This is the same as we found within the first notebook (screenshot of that output above)."
      ]
    },
    {
      "cell_type": "markdown",
      "metadata": {
        "id": "w6WNpz_1iZ1m"
      },
      "source": [
        "##### Exercise 3\n",
        "\n",
        "Lastly, we need to encode the intent labels for the validation and training sets as well."
      ]
    },
    {
      "cell_type": "code",
      "metadata": {
        "id": "YjouAdSiiRtp"
      },
      "source": [
        "# Create two variables named intent_valid and intent_test\n",
        "# Hint: look at how intent_train is defined a few cells above.\n",
        "intent_valid = df_valid[\"intent_label\"].map(intent_map).values\n",
        "intent_test = df_test[\"intent_label\"].map(intent_map).values\n",
        "### YOUR CODE HERE ###"
      ],
      "execution_count": null,
      "outputs": []
    },
    {
      "cell_type": "markdown",
      "metadata": {
        "id": "LBNRFoRIihgh"
      },
      "source": [
        "### Using a Pretrained BERT model\n",
        "\n",
        "Yay - we have all the pre-processing steps done! Now it's time to explore pretrained BERT. <img src=\"https://i.pinimg.com/originals/58/e9/78/58e97802c32da4c19d8429823c3201c2.jpg\" width=25>"
      ]
    },
    {
      "cell_type": "code",
      "metadata": {
        "id": "QdsPIw6Uih_d",
        "colab": {
          "base_uri": "https://localhost:8080/",
          "height": 289
        },
        "outputId": "8447f535-df8f-4ae1-c37d-4bc27b67b78c"
      },
      "source": [
        "from transformers import TFBertModel\n",
        "\n",
        "# recall that we earlier defined model_name to be \"bert-base-cased\"\n",
        "base_bert_model = TFBertModel.from_pretrained(model_name)\n",
        "base_bert_model.summary()"
      ],
      "execution_count": null,
      "outputs": [
        {
          "output_type": "stream",
          "text": [
            "Some weights of the model checkpoint at bert-base-cased were not used when initializing TFBertModel: ['nsp___cls', 'mlm___cls']\n",
            "- This IS expected if you are initializing TFBertModel from the checkpoint of a model trained on another task or with another architecture (e.g. initializing a BertForSequenceClassification model from a BertForPretraining model).\n",
            "- This IS NOT expected if you are initializing TFBertModel from the checkpoint of a model that you expect to be exactly identical (initializing a BertForSequenceClassification model from a BertForSequenceClassification model).\n",
            "All the weights of TFBertModel were initialized from the model checkpoint at bert-base-cased.\n",
            "If your task is similar to the task the model of the ckeckpoint was trained on, you can already use TFBertModel for predictions without further training.\n"
          ],
          "name": "stderr"
        },
        {
          "output_type": "stream",
          "text": [
            "Model: \"tf_bert_model_2\"\n",
            "_________________________________________________________________\n",
            "Layer (type)                 Output Shape              Param #   \n",
            "=================================================================\n",
            "bert (TFBertMainLayer)       multiple                  108310272 \n",
            "=================================================================\n",
            "Total params: 108,310,272\n",
            "Trainable params: 108,310,272\n",
            "Non-trainable params: 0\n",
            "_________________________________________________________________\n"
          ],
          "name": "stdout"
        }
      ]
    },
    {
      "cell_type": "markdown",
      "metadata": {
        "id": "vumnko-qiy-F"
      },
      "source": [
        "Let's see what the pretrained BERT model outputs when we feed it our encoded validation set:"
      ]
    },
    {
      "cell_type": "code",
      "metadata": {
        "id": "jZEJmpSPjQyT",
        "colab": {
          "base_uri": "https://localhost:8080/",
          "height": 270
        },
        "outputId": "259c8ce1-ee7a-4085-cdf0-3092a5df8879"
      },
      "source": [
        "# Note: This cell might take a bit of time to run.\n",
        "outputs = base_bert_model(encoded_valid)\n",
        "len(outputs)"
      ],
      "execution_count": null,
      "outputs": [
        {
          "output_type": "error",
          "ename": "ResourceExhaustedError",
          "evalue": "ignored",
          "traceback": [
            "\u001b[0;31m---------------------------------------------------------------------------\u001b[0m",
            "\u001b[0;31mResourceExhaustedError\u001b[0m                    Traceback (most recent call last)",
            "\u001b[0;32m<ipython-input-65-0c62e713a6d9>\u001b[0m in \u001b[0;36m<module>\u001b[0;34m()\u001b[0m\n\u001b[1;32m      1\u001b[0m \u001b[0;31m# Note: This cell might take a bit of time to run.\u001b[0m\u001b[0;34m\u001b[0m\u001b[0;34m\u001b[0m\u001b[0;34m\u001b[0m\u001b[0m\n\u001b[0;32m----> 2\u001b[0;31m \u001b[0moutputs\u001b[0m \u001b[0;34m=\u001b[0m \u001b[0mbase_bert_model\u001b[0m\u001b[0;34m(\u001b[0m\u001b[0mencoded_valid\u001b[0m\u001b[0;34m)\u001b[0m\u001b[0;34m\u001b[0m\u001b[0;34m\u001b[0m\u001b[0m\n\u001b[0m\u001b[1;32m      3\u001b[0m \u001b[0mlen\u001b[0m\u001b[0;34m(\u001b[0m\u001b[0moutputs\u001b[0m\u001b[0;34m)\u001b[0m\u001b[0;34m\u001b[0m\u001b[0;34m\u001b[0m\u001b[0m\n",
            "\u001b[0;32m/usr/local/lib/python3.6/dist-packages/tensorflow/python/keras/engine/base_layer.py\u001b[0m in \u001b[0;36m__call__\u001b[0;34m(self, *args, **kwargs)\u001b[0m\n\u001b[1;32m    983\u001b[0m \u001b[0;34m\u001b[0m\u001b[0m\n\u001b[1;32m    984\u001b[0m         \u001b[0;32mwith\u001b[0m \u001b[0mops\u001b[0m\u001b[0;34m.\u001b[0m\u001b[0menable_auto_cast_variables\u001b[0m\u001b[0;34m(\u001b[0m\u001b[0mself\u001b[0m\u001b[0;34m.\u001b[0m\u001b[0m_compute_dtype_object\u001b[0m\u001b[0;34m)\u001b[0m\u001b[0;34m:\u001b[0m\u001b[0;34m\u001b[0m\u001b[0;34m\u001b[0m\u001b[0m\n\u001b[0;32m--> 985\u001b[0;31m           \u001b[0moutputs\u001b[0m \u001b[0;34m=\u001b[0m \u001b[0mcall_fn\u001b[0m\u001b[0;34m(\u001b[0m\u001b[0minputs\u001b[0m\u001b[0;34m,\u001b[0m \u001b[0;34m*\u001b[0m\u001b[0margs\u001b[0m\u001b[0;34m,\u001b[0m \u001b[0;34m**\u001b[0m\u001b[0mkwargs\u001b[0m\u001b[0;34m)\u001b[0m\u001b[0;34m\u001b[0m\u001b[0;34m\u001b[0m\u001b[0m\n\u001b[0m\u001b[1;32m    986\u001b[0m \u001b[0;34m\u001b[0m\u001b[0m\n\u001b[1;32m    987\u001b[0m         \u001b[0;32mif\u001b[0m \u001b[0mself\u001b[0m\u001b[0;34m.\u001b[0m\u001b[0m_activity_regularizer\u001b[0m\u001b[0;34m:\u001b[0m\u001b[0;34m\u001b[0m\u001b[0;34m\u001b[0m\u001b[0m\n",
            "\u001b[0;32m/usr/local/lib/python3.6/dist-packages/transformers/modeling_tf_bert.py\u001b[0m in \u001b[0;36mcall\u001b[0;34m(self, inputs, **kwargs)\u001b[0m\n\u001b[1;32m    737\u001b[0m             \u001b[0mheads\u001b[0m\u001b[0;34m.\u001b[0m\u001b[0;34m\u001b[0m\u001b[0;34m\u001b[0m\u001b[0m\n\u001b[1;32m    738\u001b[0m         \"\"\"\n\u001b[0;32m--> 739\u001b[0;31m         \u001b[0moutputs\u001b[0m \u001b[0;34m=\u001b[0m \u001b[0mself\u001b[0m\u001b[0;34m.\u001b[0m\u001b[0mbert\u001b[0m\u001b[0;34m(\u001b[0m\u001b[0minputs\u001b[0m\u001b[0;34m,\u001b[0m \u001b[0;34m**\u001b[0m\u001b[0mkwargs\u001b[0m\u001b[0;34m)\u001b[0m\u001b[0;34m\u001b[0m\u001b[0;34m\u001b[0m\u001b[0m\n\u001b[0m\u001b[1;32m    740\u001b[0m         \u001b[0;32mreturn\u001b[0m \u001b[0moutputs\u001b[0m\u001b[0;34m\u001b[0m\u001b[0;34m\u001b[0m\u001b[0m\n\u001b[1;32m    741\u001b[0m \u001b[0;34m\u001b[0m\u001b[0m\n",
            "\u001b[0;32m/usr/local/lib/python3.6/dist-packages/tensorflow/python/keras/engine/base_layer.py\u001b[0m in \u001b[0;36m__call__\u001b[0;34m(self, *args, **kwargs)\u001b[0m\n\u001b[1;32m    983\u001b[0m \u001b[0;34m\u001b[0m\u001b[0m\n\u001b[1;32m    984\u001b[0m         \u001b[0;32mwith\u001b[0m \u001b[0mops\u001b[0m\u001b[0;34m.\u001b[0m\u001b[0menable_auto_cast_variables\u001b[0m\u001b[0;34m(\u001b[0m\u001b[0mself\u001b[0m\u001b[0;34m.\u001b[0m\u001b[0m_compute_dtype_object\u001b[0m\u001b[0;34m)\u001b[0m\u001b[0;34m:\u001b[0m\u001b[0;34m\u001b[0m\u001b[0;34m\u001b[0m\u001b[0m\n\u001b[0;32m--> 985\u001b[0;31m           \u001b[0moutputs\u001b[0m \u001b[0;34m=\u001b[0m \u001b[0mcall_fn\u001b[0m\u001b[0;34m(\u001b[0m\u001b[0minputs\u001b[0m\u001b[0;34m,\u001b[0m \u001b[0;34m*\u001b[0m\u001b[0margs\u001b[0m\u001b[0;34m,\u001b[0m \u001b[0;34m**\u001b[0m\u001b[0mkwargs\u001b[0m\u001b[0;34m)\u001b[0m\u001b[0;34m\u001b[0m\u001b[0;34m\u001b[0m\u001b[0m\n\u001b[0m\u001b[1;32m    986\u001b[0m \u001b[0;34m\u001b[0m\u001b[0m\n\u001b[1;32m    987\u001b[0m         \u001b[0;32mif\u001b[0m \u001b[0mself\u001b[0m\u001b[0;34m.\u001b[0m\u001b[0m_activity_regularizer\u001b[0m\u001b[0;34m:\u001b[0m\u001b[0;34m\u001b[0m\u001b[0;34m\u001b[0m\u001b[0m\n",
            "\u001b[0;32m/usr/local/lib/python3.6/dist-packages/transformers/modeling_tf_bert.py\u001b[0m in \u001b[0;36mcall\u001b[0;34m(self, inputs, attention_mask, token_type_ids, position_ids, head_mask, inputs_embeds, output_attentions, output_hidden_states, training)\u001b[0m\n\u001b[1;32m    604\u001b[0m             \u001b[0;31m# head_mask = tf.constant([0] * self.num_hidden_layers)\u001b[0m\u001b[0;34m\u001b[0m\u001b[0;34m\u001b[0m\u001b[0;34m\u001b[0m\u001b[0m\n\u001b[1;32m    605\u001b[0m \u001b[0;34m\u001b[0m\u001b[0m\n\u001b[0;32m--> 606\u001b[0;31m         \u001b[0membedding_output\u001b[0m \u001b[0;34m=\u001b[0m \u001b[0mself\u001b[0m\u001b[0;34m.\u001b[0m\u001b[0membeddings\u001b[0m\u001b[0;34m(\u001b[0m\u001b[0;34m[\u001b[0m\u001b[0minput_ids\u001b[0m\u001b[0;34m,\u001b[0m \u001b[0mposition_ids\u001b[0m\u001b[0;34m,\u001b[0m \u001b[0mtoken_type_ids\u001b[0m\u001b[0;34m,\u001b[0m \u001b[0minputs_embeds\u001b[0m\u001b[0;34m]\u001b[0m\u001b[0;34m,\u001b[0m \u001b[0mtraining\u001b[0m\u001b[0;34m=\u001b[0m\u001b[0mtraining\u001b[0m\u001b[0;34m)\u001b[0m\u001b[0;34m\u001b[0m\u001b[0;34m\u001b[0m\u001b[0m\n\u001b[0m\u001b[1;32m    607\u001b[0m         encoder_outputs = self.encoder(\n\u001b[1;32m    608\u001b[0m             \u001b[0;34m[\u001b[0m\u001b[0membedding_output\u001b[0m\u001b[0;34m,\u001b[0m \u001b[0mextended_attention_mask\u001b[0m\u001b[0;34m,\u001b[0m \u001b[0mhead_mask\u001b[0m\u001b[0;34m,\u001b[0m \u001b[0moutput_attentions\u001b[0m\u001b[0;34m,\u001b[0m \u001b[0moutput_hidden_states\u001b[0m\u001b[0;34m]\u001b[0m\u001b[0;34m,\u001b[0m\u001b[0;34m\u001b[0m\u001b[0;34m\u001b[0m\u001b[0m\n",
            "\u001b[0;32m/usr/local/lib/python3.6/dist-packages/tensorflow/python/keras/engine/base_layer.py\u001b[0m in \u001b[0;36m__call__\u001b[0;34m(self, *args, **kwargs)\u001b[0m\n\u001b[1;32m    983\u001b[0m \u001b[0;34m\u001b[0m\u001b[0m\n\u001b[1;32m    984\u001b[0m         \u001b[0;32mwith\u001b[0m \u001b[0mops\u001b[0m\u001b[0;34m.\u001b[0m\u001b[0menable_auto_cast_variables\u001b[0m\u001b[0;34m(\u001b[0m\u001b[0mself\u001b[0m\u001b[0;34m.\u001b[0m\u001b[0m_compute_dtype_object\u001b[0m\u001b[0;34m)\u001b[0m\u001b[0;34m:\u001b[0m\u001b[0;34m\u001b[0m\u001b[0;34m\u001b[0m\u001b[0m\n\u001b[0;32m--> 985\u001b[0;31m           \u001b[0moutputs\u001b[0m \u001b[0;34m=\u001b[0m \u001b[0mcall_fn\u001b[0m\u001b[0;34m(\u001b[0m\u001b[0minputs\u001b[0m\u001b[0;34m,\u001b[0m \u001b[0;34m*\u001b[0m\u001b[0margs\u001b[0m\u001b[0;34m,\u001b[0m \u001b[0;34m**\u001b[0m\u001b[0mkwargs\u001b[0m\u001b[0;34m)\u001b[0m\u001b[0;34m\u001b[0m\u001b[0;34m\u001b[0m\u001b[0m\n\u001b[0m\u001b[1;32m    986\u001b[0m \u001b[0;34m\u001b[0m\u001b[0m\n\u001b[1;32m    987\u001b[0m         \u001b[0;32mif\u001b[0m \u001b[0mself\u001b[0m\u001b[0;34m.\u001b[0m\u001b[0m_activity_regularizer\u001b[0m\u001b[0;34m:\u001b[0m\u001b[0;34m\u001b[0m\u001b[0;34m\u001b[0m\u001b[0m\n",
            "\u001b[0;32m/usr/local/lib/python3.6/dist-packages/transformers/modeling_tf_bert.py\u001b[0m in \u001b[0;36mcall\u001b[0;34m(self, inputs, mode, training)\u001b[0m\n\u001b[1;32m    164\u001b[0m         \"\"\"\n\u001b[1;32m    165\u001b[0m         \u001b[0;32mif\u001b[0m \u001b[0mmode\u001b[0m \u001b[0;34m==\u001b[0m \u001b[0;34m\"embedding\"\u001b[0m\u001b[0;34m:\u001b[0m\u001b[0;34m\u001b[0m\u001b[0;34m\u001b[0m\u001b[0m\n\u001b[0;32m--> 166\u001b[0;31m             \u001b[0;32mreturn\u001b[0m \u001b[0mself\u001b[0m\u001b[0;34m.\u001b[0m\u001b[0m_embedding\u001b[0m\u001b[0;34m(\u001b[0m\u001b[0minputs\u001b[0m\u001b[0;34m,\u001b[0m \u001b[0mtraining\u001b[0m\u001b[0;34m=\u001b[0m\u001b[0mtraining\u001b[0m\u001b[0;34m)\u001b[0m\u001b[0;34m\u001b[0m\u001b[0;34m\u001b[0m\u001b[0m\n\u001b[0m\u001b[1;32m    167\u001b[0m         \u001b[0;32melif\u001b[0m \u001b[0mmode\u001b[0m \u001b[0;34m==\u001b[0m \u001b[0;34m\"linear\"\u001b[0m\u001b[0;34m:\u001b[0m\u001b[0;34m\u001b[0m\u001b[0;34m\u001b[0m\u001b[0m\n\u001b[1;32m    168\u001b[0m             \u001b[0;32mreturn\u001b[0m \u001b[0mself\u001b[0m\u001b[0;34m.\u001b[0m\u001b[0m_linear\u001b[0m\u001b[0;34m(\u001b[0m\u001b[0minputs\u001b[0m\u001b[0;34m)\u001b[0m\u001b[0;34m\u001b[0m\u001b[0;34m\u001b[0m\u001b[0m\n",
            "\u001b[0;32m/usr/local/lib/python3.6/dist-packages/transformers/modeling_tf_bert.py\u001b[0m in \u001b[0;36m_embedding\u001b[0;34m(self, inputs, training)\u001b[0m\n\u001b[1;32m    186\u001b[0m \u001b[0;34m\u001b[0m\u001b[0m\n\u001b[1;32m    187\u001b[0m         \u001b[0;32mif\u001b[0m \u001b[0minputs_embeds\u001b[0m \u001b[0;32mis\u001b[0m \u001b[0;32mNone\u001b[0m\u001b[0;34m:\u001b[0m\u001b[0;34m\u001b[0m\u001b[0;34m\u001b[0m\u001b[0m\n\u001b[0;32m--> 188\u001b[0;31m             \u001b[0minputs_embeds\u001b[0m \u001b[0;34m=\u001b[0m \u001b[0mtf\u001b[0m\u001b[0;34m.\u001b[0m\u001b[0mgather\u001b[0m\u001b[0;34m(\u001b[0m\u001b[0mself\u001b[0m\u001b[0;34m.\u001b[0m\u001b[0mword_embeddings\u001b[0m\u001b[0;34m,\u001b[0m \u001b[0minput_ids\u001b[0m\u001b[0;34m)\u001b[0m\u001b[0;34m\u001b[0m\u001b[0;34m\u001b[0m\u001b[0m\n\u001b[0m\u001b[1;32m    189\u001b[0m         \u001b[0mposition_embeddings\u001b[0m \u001b[0;34m=\u001b[0m \u001b[0mself\u001b[0m\u001b[0;34m.\u001b[0m\u001b[0mposition_embeddings\u001b[0m\u001b[0;34m(\u001b[0m\u001b[0mposition_ids\u001b[0m\u001b[0;34m)\u001b[0m\u001b[0;34m\u001b[0m\u001b[0;34m\u001b[0m\u001b[0m\n\u001b[1;32m    190\u001b[0m         \u001b[0mtoken_type_embeddings\u001b[0m \u001b[0;34m=\u001b[0m \u001b[0mself\u001b[0m\u001b[0;34m.\u001b[0m\u001b[0mtoken_type_embeddings\u001b[0m\u001b[0;34m(\u001b[0m\u001b[0mtoken_type_ids\u001b[0m\u001b[0;34m)\u001b[0m\u001b[0;34m\u001b[0m\u001b[0;34m\u001b[0m\u001b[0m\n",
            "\u001b[0;32m/usr/local/lib/python3.6/dist-packages/tensorflow/python/util/dispatch.py\u001b[0m in \u001b[0;36mwrapper\u001b[0;34m(*args, **kwargs)\u001b[0m\n\u001b[1;32m    199\u001b[0m     \u001b[0;34m\"\"\"Call target, and fall back on dispatchers if there is a TypeError.\"\"\"\u001b[0m\u001b[0;34m\u001b[0m\u001b[0;34m\u001b[0m\u001b[0m\n\u001b[1;32m    200\u001b[0m     \u001b[0;32mtry\u001b[0m\u001b[0;34m:\u001b[0m\u001b[0;34m\u001b[0m\u001b[0;34m\u001b[0m\u001b[0m\n\u001b[0;32m--> 201\u001b[0;31m       \u001b[0;32mreturn\u001b[0m \u001b[0mtarget\u001b[0m\u001b[0;34m(\u001b[0m\u001b[0;34m*\u001b[0m\u001b[0margs\u001b[0m\u001b[0;34m,\u001b[0m \u001b[0;34m**\u001b[0m\u001b[0mkwargs\u001b[0m\u001b[0;34m)\u001b[0m\u001b[0;34m\u001b[0m\u001b[0;34m\u001b[0m\u001b[0m\n\u001b[0m\u001b[1;32m    202\u001b[0m     \u001b[0;32mexcept\u001b[0m \u001b[0;34m(\u001b[0m\u001b[0mTypeError\u001b[0m\u001b[0;34m,\u001b[0m \u001b[0mValueError\u001b[0m\u001b[0;34m)\u001b[0m\u001b[0;34m:\u001b[0m\u001b[0;34m\u001b[0m\u001b[0;34m\u001b[0m\u001b[0m\n\u001b[1;32m    203\u001b[0m       \u001b[0;31m# Note: convert_to_eager_tensor currently raises a ValueError, not a\u001b[0m\u001b[0;34m\u001b[0m\u001b[0;34m\u001b[0m\u001b[0;34m\u001b[0m\u001b[0m\n",
            "\u001b[0;32m/usr/local/lib/python3.6/dist-packages/tensorflow/python/ops/array_ops.py\u001b[0m in \u001b[0;36mgather_v2\u001b[0;34m(params, indices, validate_indices, axis, batch_dims, name)\u001b[0m\n\u001b[1;32m   4693\u001b[0m       \u001b[0mname\u001b[0m\u001b[0;34m=\u001b[0m\u001b[0mname\u001b[0m\u001b[0;34m,\u001b[0m\u001b[0;34m\u001b[0m\u001b[0;34m\u001b[0m\u001b[0m\n\u001b[1;32m   4694\u001b[0m       \u001b[0maxis\u001b[0m\u001b[0;34m=\u001b[0m\u001b[0maxis\u001b[0m\u001b[0;34m,\u001b[0m\u001b[0;34m\u001b[0m\u001b[0;34m\u001b[0m\u001b[0m\n\u001b[0;32m-> 4695\u001b[0;31m       batch_dims=batch_dims)\n\u001b[0m\u001b[1;32m   4696\u001b[0m \u001b[0;34m\u001b[0m\u001b[0m\n\u001b[1;32m   4697\u001b[0m \u001b[0;34m\u001b[0m\u001b[0m\n",
            "\u001b[0;32m/usr/local/lib/python3.6/dist-packages/tensorflow/python/util/dispatch.py\u001b[0m in \u001b[0;36mwrapper\u001b[0;34m(*args, **kwargs)\u001b[0m\n\u001b[1;32m    199\u001b[0m     \u001b[0;34m\"\"\"Call target, and fall back on dispatchers if there is a TypeError.\"\"\"\u001b[0m\u001b[0;34m\u001b[0m\u001b[0;34m\u001b[0m\u001b[0m\n\u001b[1;32m    200\u001b[0m     \u001b[0;32mtry\u001b[0m\u001b[0;34m:\u001b[0m\u001b[0;34m\u001b[0m\u001b[0;34m\u001b[0m\u001b[0m\n\u001b[0;32m--> 201\u001b[0;31m       \u001b[0;32mreturn\u001b[0m \u001b[0mtarget\u001b[0m\u001b[0;34m(\u001b[0m\u001b[0;34m*\u001b[0m\u001b[0margs\u001b[0m\u001b[0;34m,\u001b[0m \u001b[0;34m**\u001b[0m\u001b[0mkwargs\u001b[0m\u001b[0;34m)\u001b[0m\u001b[0;34m\u001b[0m\u001b[0;34m\u001b[0m\u001b[0m\n\u001b[0m\u001b[1;32m    202\u001b[0m     \u001b[0;32mexcept\u001b[0m \u001b[0;34m(\u001b[0m\u001b[0mTypeError\u001b[0m\u001b[0;34m,\u001b[0m \u001b[0mValueError\u001b[0m\u001b[0;34m)\u001b[0m\u001b[0;34m:\u001b[0m\u001b[0;34m\u001b[0m\u001b[0;34m\u001b[0m\u001b[0m\n\u001b[1;32m    203\u001b[0m       \u001b[0;31m# Note: convert_to_eager_tensor currently raises a ValueError, not a\u001b[0m\u001b[0;34m\u001b[0m\u001b[0;34m\u001b[0m\u001b[0;34m\u001b[0m\u001b[0m\n",
            "\u001b[0;32m/usr/local/lib/python3.6/dist-packages/tensorflow/python/ops/array_ops.py\u001b[0m in \u001b[0;36mgather\u001b[0;34m(***failed resolving arguments***)\u001b[0m\n\u001b[1;32m   4674\u001b[0m     \u001b[0;31m# TODO(apassos) find a less bad way of detecting resource variables\u001b[0m\u001b[0;34m\u001b[0m\u001b[0;34m\u001b[0m\u001b[0;34m\u001b[0m\u001b[0m\n\u001b[1;32m   4675\u001b[0m     \u001b[0;31m# without introducing a circular dependency.\u001b[0m\u001b[0;34m\u001b[0m\u001b[0;34m\u001b[0m\u001b[0;34m\u001b[0m\u001b[0m\n\u001b[0;32m-> 4676\u001b[0;31m     \u001b[0;32mreturn\u001b[0m \u001b[0mparams\u001b[0m\u001b[0;34m.\u001b[0m\u001b[0msparse_read\u001b[0m\u001b[0;34m(\u001b[0m\u001b[0mindices\u001b[0m\u001b[0;34m,\u001b[0m \u001b[0mname\u001b[0m\u001b[0;34m=\u001b[0m\u001b[0mname\u001b[0m\u001b[0;34m)\u001b[0m\u001b[0;34m\u001b[0m\u001b[0;34m\u001b[0m\u001b[0m\n\u001b[0m\u001b[1;32m   4677\u001b[0m   \u001b[0;32mexcept\u001b[0m \u001b[0mAttributeError\u001b[0m\u001b[0;34m:\u001b[0m\u001b[0;34m\u001b[0m\u001b[0;34m\u001b[0m\u001b[0m\n\u001b[1;32m   4678\u001b[0m     \u001b[0;32mreturn\u001b[0m \u001b[0mgen_array_ops\u001b[0m\u001b[0;34m.\u001b[0m\u001b[0mgather_v2\u001b[0m\u001b[0;34m(\u001b[0m\u001b[0mparams\u001b[0m\u001b[0;34m,\u001b[0m \u001b[0mindices\u001b[0m\u001b[0;34m,\u001b[0m \u001b[0maxis\u001b[0m\u001b[0;34m,\u001b[0m \u001b[0mname\u001b[0m\u001b[0;34m=\u001b[0m\u001b[0mname\u001b[0m\u001b[0;34m)\u001b[0m\u001b[0;34m\u001b[0m\u001b[0;34m\u001b[0m\u001b[0m\n",
            "\u001b[0;32m/usr/local/lib/python3.6/dist-packages/tensorflow/python/ops/resource_variable_ops.py\u001b[0m in \u001b[0;36msparse_read\u001b[0;34m(self, indices, name)\u001b[0m\n\u001b[1;32m    686\u001b[0m       \u001b[0mvariable_accessed\u001b[0m\u001b[0;34m(\u001b[0m\u001b[0mself\u001b[0m\u001b[0;34m)\u001b[0m\u001b[0;34m\u001b[0m\u001b[0;34m\u001b[0m\u001b[0m\n\u001b[1;32m    687\u001b[0m       value = gen_resource_variable_ops.resource_gather(\n\u001b[0;32m--> 688\u001b[0;31m           self._handle, indices, dtype=self._dtype, name=name)\n\u001b[0m\u001b[1;32m    689\u001b[0m \u001b[0;34m\u001b[0m\u001b[0m\n\u001b[1;32m    690\u001b[0m       \u001b[0;32mif\u001b[0m \u001b[0mself\u001b[0m\u001b[0;34m.\u001b[0m\u001b[0m_dtype\u001b[0m \u001b[0;34m==\u001b[0m \u001b[0mdtypes\u001b[0m\u001b[0;34m.\u001b[0m\u001b[0mvariant\u001b[0m\u001b[0;34m:\u001b[0m\u001b[0;34m\u001b[0m\u001b[0;34m\u001b[0m\u001b[0m\n",
            "\u001b[0;32m/usr/local/lib/python3.6/dist-packages/tensorflow/python/ops/gen_resource_variable_ops.py\u001b[0m in \u001b[0;36mresource_gather\u001b[0;34m(resource, indices, dtype, batch_dims, validate_indices, name)\u001b[0m\n\u001b[1;32m    554\u001b[0m       \u001b[0;32mreturn\u001b[0m \u001b[0m_result\u001b[0m\u001b[0;34m\u001b[0m\u001b[0;34m\u001b[0m\u001b[0m\n\u001b[1;32m    555\u001b[0m     \u001b[0;32mexcept\u001b[0m \u001b[0m_core\u001b[0m\u001b[0;34m.\u001b[0m\u001b[0m_NotOkStatusException\u001b[0m \u001b[0;32mas\u001b[0m \u001b[0me\u001b[0m\u001b[0;34m:\u001b[0m\u001b[0;34m\u001b[0m\u001b[0;34m\u001b[0m\u001b[0m\n\u001b[0;32m--> 556\u001b[0;31m       \u001b[0m_ops\u001b[0m\u001b[0;34m.\u001b[0m\u001b[0mraise_from_not_ok_status\u001b[0m\u001b[0;34m(\u001b[0m\u001b[0me\u001b[0m\u001b[0;34m,\u001b[0m \u001b[0mname\u001b[0m\u001b[0;34m)\u001b[0m\u001b[0;34m\u001b[0m\u001b[0;34m\u001b[0m\u001b[0m\n\u001b[0m\u001b[1;32m    557\u001b[0m     \u001b[0;32mexcept\u001b[0m \u001b[0m_core\u001b[0m\u001b[0;34m.\u001b[0m\u001b[0m_FallbackException\u001b[0m\u001b[0;34m:\u001b[0m\u001b[0;34m\u001b[0m\u001b[0;34m\u001b[0m\u001b[0m\n\u001b[1;32m    558\u001b[0m       \u001b[0;32mpass\u001b[0m\u001b[0;34m\u001b[0m\u001b[0;34m\u001b[0m\u001b[0m\n",
            "\u001b[0;32m/usr/local/lib/python3.6/dist-packages/tensorflow/python/framework/ops.py\u001b[0m in \u001b[0;36mraise_from_not_ok_status\u001b[0;34m(e, name)\u001b[0m\n\u001b[1;32m   6841\u001b[0m   \u001b[0mmessage\u001b[0m \u001b[0;34m=\u001b[0m \u001b[0me\u001b[0m\u001b[0;34m.\u001b[0m\u001b[0mmessage\u001b[0m \u001b[0;34m+\u001b[0m \u001b[0;34m(\u001b[0m\u001b[0;34m\" name: \"\u001b[0m \u001b[0;34m+\u001b[0m \u001b[0mname\u001b[0m \u001b[0;32mif\u001b[0m \u001b[0mname\u001b[0m \u001b[0;32mis\u001b[0m \u001b[0;32mnot\u001b[0m \u001b[0;32mNone\u001b[0m \u001b[0;32melse\u001b[0m \u001b[0;34m\"\"\u001b[0m\u001b[0;34m)\u001b[0m\u001b[0;34m\u001b[0m\u001b[0;34m\u001b[0m\u001b[0m\n\u001b[1;32m   6842\u001b[0m   \u001b[0;31m# pylint: disable=protected-access\u001b[0m\u001b[0;34m\u001b[0m\u001b[0;34m\u001b[0m\u001b[0;34m\u001b[0m\u001b[0m\n\u001b[0;32m-> 6843\u001b[0;31m   \u001b[0msix\u001b[0m\u001b[0;34m.\u001b[0m\u001b[0mraise_from\u001b[0m\u001b[0;34m(\u001b[0m\u001b[0mcore\u001b[0m\u001b[0;34m.\u001b[0m\u001b[0m_status_to_exception\u001b[0m\u001b[0;34m(\u001b[0m\u001b[0me\u001b[0m\u001b[0;34m.\u001b[0m\u001b[0mcode\u001b[0m\u001b[0;34m,\u001b[0m \u001b[0mmessage\u001b[0m\u001b[0;34m)\u001b[0m\u001b[0;34m,\u001b[0m \u001b[0;32mNone\u001b[0m\u001b[0;34m)\u001b[0m\u001b[0;34m\u001b[0m\u001b[0;34m\u001b[0m\u001b[0m\n\u001b[0m\u001b[1;32m   6844\u001b[0m   \u001b[0;31m# pylint: enable=protected-access\u001b[0m\u001b[0;34m\u001b[0m\u001b[0;34m\u001b[0m\u001b[0;34m\u001b[0m\u001b[0m\n\u001b[1;32m   6845\u001b[0m \u001b[0;34m\u001b[0m\u001b[0m\n",
            "\u001b[0;32m/usr/local/lib/python3.6/dist-packages/six.py\u001b[0m in \u001b[0;36mraise_from\u001b[0;34m(value, from_value)\u001b[0m\n",
            "\u001b[0;31mResourceExhaustedError\u001b[0m: OOM when allocating tensor with shape[13084,44,768] and type float on /job:localhost/replica:0/task:0/device:GPU:0 by allocator GPU_0_bfc [Op:ResourceGather]"
          ]
        }
      ]
    },
    {
      "cell_type": "code",
      "metadata": {
        "id": "FZVA5Cm7jTgU",
        "colab": {
          "base_uri": "https://localhost:8080/",
          "height": 235
        },
        "outputId": "c502b530-a102-4bba-bfe8-ce39bc097222"
      },
      "source": [
        "print(encoded_valid.values())"
      ],
      "execution_count": null,
      "outputs": [
        {
          "output_type": "stream",
          "text": [
            "dict_values([array([[  101, 24930,  1181, ...,     0,     0,     0],\n",
            "       [  101,  1508,  1244, ...,     0,     0,     0],\n",
            "       [  101,  5194,  1103, ...,     0,     0,     0],\n",
            "       ...,\n",
            "       [  101, 27640,  1116, ...,     0,     0,     0],\n",
            "       [  101,  5979,  6608, ...,     0,     0,     0],\n",
            "       [  101,  1327,  2523, ...,     0,     0,     0]], dtype=int32), array([[1, 1, 1, ..., 0, 0, 0],\n",
            "       [1, 1, 1, ..., 0, 0, 0],\n",
            "       [1, 1, 1, ..., 0, 0, 0],\n",
            "       ...,\n",
            "       [1, 1, 1, ..., 0, 0, 0],\n",
            "       [1, 1, 1, ..., 0, 0, 0],\n",
            "       [1, 1, 1, ..., 0, 0, 0]], dtype=int32)])\n"
          ],
          "name": "stdout"
        }
      ]
    },
    {
      "cell_type": "markdown",
      "metadata": {
        "id": "fQlDWVZdnYZZ"
      },
      "source": [
        "#### Outputs of BERT\n",
        "\n",
        "We can see that there are two outputs from the BERT model.\n",
        "\n",
        "\n",
        "1. The **first** output of the BERT model is a tensor with shape: `(batch_size, seq_len, output_dim)` which computes **features for each token in the input sequence**"
      ]
    },
    {
      "cell_type": "code",
      "metadata": {
        "id": "M5DDe2kanYy4"
      },
      "source": [
        "token_features = outputs[0]\n",
        "token_features.shape"
      ],
      "execution_count": null,
      "outputs": []
    },
    {
      "cell_type": "markdown",
      "metadata": {
        "id": "WED3ODi-n5Zx"
      },
      "source": [
        "Note that `seq_len` is `max_token_len` (ie. 43)."
      ]
    },
    {
      "cell_type": "markdown",
      "metadata": {
        "id": "Ik14njDsn7Uf"
      },
      "source": [
        "\n",
        "2.\n",
        "\n",
        "The **second** output of the BERT model is a tensor with shape: `(batch_size, output_dim)` which is the feature vector of `[CLS]`. This vector is typically used as a **pooled representation for the sequence as a whole**. We can use this as the features of our intent classifier"
      ]
    },
    {
      "cell_type": "code",
      "metadata": {
        "id": "kxpxokzpnaVv"
      },
      "source": [
        "sentence_representation = outputs[1]\n",
        "sentence_representation.shape"
      ],
      "execution_count": null,
      "outputs": []
    },
    {
      "cell_type": "markdown",
      "metadata": {
        "id": "EDNxGswlga65"
      },
      "source": [
        "Remember that our goal is to use BERT to compute some **representation** of a single voice command at a time.\n",
        "\n",
        "We have two options to obtain this sentence-level representation, which is used as the input for the final sequence classification layer:\n",
        "\n",
        "1. We can reuse the representation of the `[CLS]` token.\n",
        "\n",
        "or\n",
        "\n",
        "2. We can pool the representations (encodings) of all the tokens within the sequence (i.e. global average)."
      ]
    },
    {
      "cell_type": "markdown",
      "metadata": {
        "id": "S6Fh7rYXzhaK"
      },
      "source": [
        "#### Pooled Representation"
      ]
    },
    {
      "cell_type": "markdown",
      "metadata": {
        "id": "t3u4v-8In_KG"
      },
      "source": [
        "The pooled output comes from the application of a small multi-layer-perception (MLP) layer called the \"Pooler\" which is applied to the output representation of the special `[CLS]` token.\n",
        "\n",
        "<img src=\"https://miro.medium.com/max/3446/1*-IPQlOd46dlsutIbUq1Zcw.png\" width=300>"
      ]
    },
    {
      "cell_type": "code",
      "metadata": {
        "id": "qhZE-GFLn_7w",
        "colab": {
          "base_uri": "https://localhost:8080/",
          "height": 34
        },
        "outputId": "b37a92b2-3d92-4231-8e29-b424fee55bb2"
      },
      "source": [
        "base_bert_model.bert.pooler.dense"
      ],
      "execution_count": null,
      "outputs": [
        {
          "output_type": "execute_result",
          "data": {
            "text/plain": [
              "<tensorflow.python.keras.layers.core.Dense at 0x7fccc8be9908>"
            ]
          },
          "metadata": {
            "tags": []
          },
          "execution_count": 60
        }
      ]
    },
    {
      "cell_type": "code",
      "metadata": {
        "id": "lxopUQmroBXy"
      },
      "source": [
        "# Extract the features across all batches for the 0th ([CLS]) token\n",
        "first_token_states = token_features[:, 0]\n",
        "pooled_outputs = base_bert_model.bert.pooler.dense(first_token_states)\n",
        "pooled_outputs.shape"
      ],
      "execution_count": null,
      "outputs": []
    },
    {
      "cell_type": "markdown",
      "metadata": {
        "id": "VROGcIWBoFTL"
      },
      "source": [
        "Now let's double-check that taking this route of extracting all of the token features for `[CLS]` and passing it through the \"Pooler\" results in close to the same output as using simply the `sentence_representation`.\n",
        "\n",
        "Take a look at the [documentation](https://numpy.org/doc/1.18/reference/generated/numpy.allclose.html) for the `allclose` function used below if you're interested."
      ]
    },
    {
      "cell_type": "code",
      "metadata": {
        "id": "L0cjv9IMoCyY"
      },
      "source": [
        "np.allclose(pooled_outputs, sentence_representation)"
      ],
      "execution_count": null,
      "outputs": []
    },
    {
      "cell_type": "markdown",
      "metadata": {
        "id": "FDQc9ZhgoJkW"
      },
      "source": [
        "### Exercise 4\n",
        "\n",
        "Time to make classifications!\n",
        "\n",
        "Let's finish filling out the following code template to build and train a **sequence classification model** to predict the **intent class** of voice commands.\n",
        "\n",
        "Remember: we're currently only considering the pooled sentence features and ignoring the token-wise features for now.\n",
        "\n",
        "Documentation for a [Dropout](https://www.tensorflow.org/api_docs/python/tf/keras/layers/Dropout) and [Dense](https://www.tensorflow.org/api_docs/python/tf/keras/layers/Dense) layer."
      ]
    },
    {
      "cell_type": "code",
      "metadata": {
        "id": "Iw18sQdQoJzf"
      },
      "source": [
        "import tensorflow as tf\n",
        "from transformers import TFBertModel\n",
        "from tensorflow.keras.layers import Dropout, Dense, GlobalAveragePooling1D\n",
        "from tensorflow.keras.optimizers import Adam\n",
        "from tensorflow.keras.losses import SparseCategoricalCrossentropy\n",
        "from tensorflow.keras.metrics import SparseCategoricalAccuracy\n",
        "\n",
        "\n",
        "class IntentClassificationModel(tf.keras.Model):\n",
        "\n",
        "    def __init__(self, intent_num_labels=None,\n",
        "                 dropout_prob=0.1):\n",
        "        super().__init__(name=\"intent_classifier\")\n",
        "\n",
        "        # Load the pretrained BERT model in the constructor\n",
        "        self.bert = base_bert_model\n",
        "\n",
        "        # TODO: Specify the dropout\n",
        "        self.dropout = None  ### YOUR CODE HERE ###\n",
        "\n",
        "        # TODO: define a Dense classification layer which will compute\n",
        "        # the intent for each sequence in a batch. The number of\n",
        "        # output classes is given by the intent_num_labels parameter.\n",
        "        self.dropout = Dropout(dropout_prob)\n",
        "        self.intent_classifier = Dense(intent_num_lables)\n",
        "        # Use the default linear activation (no softmax) to compute logits.\n",
        "        # The softmax normalization will be computed in the loss function\n",
        "        # instead of the model.\n",
        "\n",
        "\n",
        "    def call(self, inputs, **kwargs):\n",
        "        # Use the pretrained model to extract features from our encoded inputs:\n",
        "        tokens_output, pooled_output = self.bert(inputs, **kwargs)\n",
        "\n",
        "        # The second output of the main BERT layer has shape\n",
        "        # (batch_size, output_dim) and gives the pooled representation\n",
        "        # for the full sequence (from the hidden state corresponding to [CLS]).\n",
        "        pooled_output = self.dropout(pooled_output, \\\n",
        "                                     training=kwargs.get(\"training\", False))\n",
        "\n",
        "        # TODO: use classifier layer to compute logits from pooled features.\n",
        "        intent_logits =   intent_classifier(polled_outut)\n",
        "\n",
        "        return intent_logits\n",
        "\n",
        "# TODO: create an instantiation of this class and pass in the correct\n",
        "# parameter for intent_num_labels.\n",
        "intent_model = IntentClassificationModel(intent_num_lables=len(intent_map))\n",
        "intent_model.compile(optimizer=Adam(learning_rate=3e-5, epsilon=1e-08),\n",
        "                     loss=SparseCategoricalCrossentropy(from_logits=True),\n",
        "                     metrics=[SparseCategoricalAccuracy('accuracy')])\n"
      ],
      "execution_count": null,
      "outputs": []
    },
    {
      "cell_type": "code",
      "metadata": {
        "id": "FjHVILozos-K"
      },
      "source": [
        "# Train the model.\n",
        "# Note: this cell will take a bit of time to execute.\n",
        "history = intent_model.fit(encoded_train, intent_train, epochs=1, batch_size=32, \\\n",
        "                           validation_data=(encoded_valid, intent_valid))"
      ],
      "execution_count": null,
      "outputs": []
    },
    {
      "cell_type": "markdown",
      "metadata": {
        "id": "vr_1B13Xo8st"
      },
      "source": [
        "#### Softmax\n",
        "\n",
        "Note that this classification model outputs **logits** and we need the **probabilities** of each of the 7 classes being the true intent label.\n",
        "\n",
        "Recall that the softmax function turns an input vector of K real numbers into a normalized probability distribution consisting of K probabilities, proportional to the exponentials of the input numbers.\n",
        "\n",
        "<img src=\"https://miro.medium.com/max/1812/1*670CdxchunD-yAuUWdI7Bw.png\" width=400>\n",
        "\n",
        "For us, the final **softmax** normalization layer is included in the loss function instead of the model directly.\n",
        "\n",
        "That's why we need to configure the loss function `SparseCategoricalCrossentropy(from_logits=True)` accordingly above."
      ]
    },
    {
      "cell_type": "markdown",
      "metadata": {
        "id": "H8VnzpgMo_Jf"
      },
      "source": [
        "### Classification\n",
        "\n",
        "The last step to making predictions is writing a `classify` function that will use the `tokenizer` (from Step 1: Tokenize our Data) and the `intent_model` (from Exercise 4).\n",
        "\n",
        "The main point is choosing which of the 7 classes has the highest probability after the softmax."
      ]
    },
    {
      "cell_type": "code",
      "metadata": {
        "id": "sE9q5SL4o8-w"
      },
      "source": [
        "# Classification takes a voice command as input, as well as\n",
        "# the 7 possible classes (intent_names), and uses the BERT\n",
        "# tokenizer and the intent_model.\n",
        "def classify(text, intent_names):\n",
        "    inputs = tf.constant(tokenizer.encode(text))[None, :]  # batch_size = 1\n",
        "    class_id = intent_model(inputs).numpy().argmax(axis=1)[0]\n",
        "    return intent_names[class_id]"
      ],
      "execution_count": null,
      "outputs": []
    },
    {
      "cell_type": "markdown",
      "metadata": {
        "id": "pzNCHZycpC0J"
      },
      "source": [
        "Let's see how our classify function works on some examples!"
      ]
    },
    {
      "cell_type": "code",
      "metadata": {
        "id": "vh5Yj-8VpJag"
      },
      "source": [
        "classify(\"Book a table for two at La Tour d'Argent for Friday night.\", intent_names)"
      ],
      "execution_count": null,
      "outputs": []
    },
    {
      "cell_type": "code",
      "metadata": {
        "id": "IVO_ZZehpGQo"
      },
      "source": [
        "classify(\"I would like to listen to Anima by Thom Yorke.\", intent_names)"
      ],
      "execution_count": null,
      "outputs": []
    },
    {
      "cell_type": "code",
      "metadata": {
        "id": "vuR4AA4upKUU"
      },
      "source": [
        "classify(\"Will it snow tomorrow in Saclay?\", intent_names)"
      ],
      "execution_count": null,
      "outputs": []
    },
    {
      "cell_type": "code",
      "metadata": {
        "id": "b3JO9E3spNI4"
      },
      "source": [
        "classify(\"Where can I see to the last Star Wars near Odéon tonight?\", intent_names)"
      ],
      "execution_count": null,
      "outputs": []
    },
    {
      "cell_type": "markdown",
      "metadata": {
        "id": "fqmRD5-epOxl"
      },
      "source": [
        "Yay! These examples are all classified correctly. It's also impressive that we can achieve 98% accuracy on the validation set after training for only 1 epoch."
      ]
    },
    {
      "cell_type": "markdown",
      "metadata": {
        "id": "rfyKGhq5pRjQ"
      },
      "source": [
        "#### Error Analysis\n",
        "\n",
        "Let's do a brute force search through the testing set to qualitatively analyze the types of mistakes that our `intent_model` *is* making though.\n"
      ]
    },
    {
      "cell_type": "code",
      "metadata": {
        "id": "RMiCU58HpPRa"
      },
      "source": [
        "# Loop through each row in the pandas DF for the training set,\n",
        "# and print the sequence, predicted label, and correct label\n",
        "# if our classifier failed to predict the correct intent label.\n",
        "# Limit the output to only the first 20 errors.\n",
        "\n",
        "# Shuffle the dataframe (to look at diverse samples):\n",
        "df_test = df_test.sample(frac=1).reset_index(drop=True)\n",
        "\n",
        "error_count = 0\n",
        "for i in range(len(df_test)):\n",
        "  words = \" \".join(df_test[i:i+1][\"words\"].to_string().split(\" \")[4:])\n",
        "  predicted = classify(words, intent_names)\n",
        "  true = df_test[i:i+1][\"intent_label\"].to_string().split(\" \")[-1]\n",
        "\n",
        "  if predicted != true:\n",
        "    error_count += 1\n",
        "    print(\"Incorrectly predicted {} but the correct label is {} for the sequence {}.\" \\\n",
        "          .format(predicted, true, words))\n",
        "  if error_count == 20:\n",
        "    break"
      ],
      "execution_count": null,
      "outputs": []
    },
    {
      "cell_type": "markdown",
      "metadata": {
        "id": "ABkUb5k6pYUr"
      },
      "source": [
        "**Discuss**: Why do you think our classifier made these mistakes, and what could possibly improve the predictions?"
      ]
    }
  ]
}